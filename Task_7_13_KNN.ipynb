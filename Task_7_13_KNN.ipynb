{
  "nbformat": 4,
  "nbformat_minor": 0,
  "metadata": {
    "colab": {
      "name": "Task 7: 13 KNN",
      "provenance": [],
      "collapsed_sections": [],
      "authorship_tag": "ABX9TyNgUdjhqvpnhlh1rS/s4Bis",
      "include_colab_link": true
    },
    "kernelspec": {
      "name": "python3",
      "display_name": "Python 3"
    },
    "language_info": {
      "name": "python"
    }
  },
  "cells": [
    {
      "cell_type": "markdown",
      "metadata": {
        "id": "view-in-github",
        "colab_type": "text"
      },
      "source": [
        "<a href=\"https://colab.research.google.com/github/Pavimohan9/Task-7---13/blob/main/Task_7_13_KNN.ipynb\" target=\"_parent\"><img src=\"https://colab.research.google.com/assets/colab-badge.svg\" alt=\"Open In Colab\"/></a>"
      ]
    },
    {
      "cell_type": "markdown",
      "source": [
        "Social_Networks_Ads.csv"
      ],
      "metadata": {
        "id": "TuU3ynpQZecp"
      }
    },
    {
      "cell_type": "markdown",
      "source": [
        "Importing the libraries"
      ],
      "metadata": {
        "id": "O0vXQXO6Zko8"
      }
    },
    {
      "cell_type": "code",
      "source": [
        "import pandas as pd\n",
        "import numpy as np\n",
        "import matplotlib.pyplot as plt\n",
        "import seaborn as sns"
      ],
      "metadata": {
        "id": "jor8uPhCZh34"
      },
      "execution_count": null,
      "outputs": []
    },
    {
      "cell_type": "markdown",
      "source": [
        "Importing the dataset"
      ],
      "metadata": {
        "id": "w5R9GRx2ZrtI"
      }
    },
    {
      "cell_type": "code",
      "source": [
        "data = pd.read_csv('/content/Social_Network_Ads.csv')\n",
        "data"
      ],
      "metadata": {
        "colab": {
          "base_uri": "https://localhost:8080/",
          "height": 424
        },
        "id": "2B48FWHXZuRv",
        "outputId": "f202bac2-c80a-4c8f-c324-7ddc860b8cad"
      },
      "execution_count": null,
      "outputs": [
        {
          "output_type": "execute_result",
          "data": {
            "text/plain": [
              "      User ID  Gender  Age  EstimatedSalary  Purchased\n",
              "0    15624510    Male   19            19000          0\n",
              "1    15810944    Male   35            20000          0\n",
              "2    15668575  Female   26            43000          0\n",
              "3    15603246  Female   27            57000          0\n",
              "4    15804002    Male   19            76000          0\n",
              "..        ...     ...  ...              ...        ...\n",
              "395  15691863  Female   46            41000          1\n",
              "396  15706071    Male   51            23000          1\n",
              "397  15654296  Female   50            20000          1\n",
              "398  15755018    Male   36            33000          0\n",
              "399  15594041  Female   49            36000          1\n",
              "\n",
              "[400 rows x 5 columns]"
            ],
            "text/html": [
              "\n",
              "  <div id=\"df-71ecd18a-d458-4b16-a21a-45f61b1af7b4\">\n",
              "    <div class=\"colab-df-container\">\n",
              "      <div>\n",
              "<style scoped>\n",
              "    .dataframe tbody tr th:only-of-type {\n",
              "        vertical-align: middle;\n",
              "    }\n",
              "\n",
              "    .dataframe tbody tr th {\n",
              "        vertical-align: top;\n",
              "    }\n",
              "\n",
              "    .dataframe thead th {\n",
              "        text-align: right;\n",
              "    }\n",
              "</style>\n",
              "<table border=\"1\" class=\"dataframe\">\n",
              "  <thead>\n",
              "    <tr style=\"text-align: right;\">\n",
              "      <th></th>\n",
              "      <th>User ID</th>\n",
              "      <th>Gender</th>\n",
              "      <th>Age</th>\n",
              "      <th>EstimatedSalary</th>\n",
              "      <th>Purchased</th>\n",
              "    </tr>\n",
              "  </thead>\n",
              "  <tbody>\n",
              "    <tr>\n",
              "      <th>0</th>\n",
              "      <td>15624510</td>\n",
              "      <td>Male</td>\n",
              "      <td>19</td>\n",
              "      <td>19000</td>\n",
              "      <td>0</td>\n",
              "    </tr>\n",
              "    <tr>\n",
              "      <th>1</th>\n",
              "      <td>15810944</td>\n",
              "      <td>Male</td>\n",
              "      <td>35</td>\n",
              "      <td>20000</td>\n",
              "      <td>0</td>\n",
              "    </tr>\n",
              "    <tr>\n",
              "      <th>2</th>\n",
              "      <td>15668575</td>\n",
              "      <td>Female</td>\n",
              "      <td>26</td>\n",
              "      <td>43000</td>\n",
              "      <td>0</td>\n",
              "    </tr>\n",
              "    <tr>\n",
              "      <th>3</th>\n",
              "      <td>15603246</td>\n",
              "      <td>Female</td>\n",
              "      <td>27</td>\n",
              "      <td>57000</td>\n",
              "      <td>0</td>\n",
              "    </tr>\n",
              "    <tr>\n",
              "      <th>4</th>\n",
              "      <td>15804002</td>\n",
              "      <td>Male</td>\n",
              "      <td>19</td>\n",
              "      <td>76000</td>\n",
              "      <td>0</td>\n",
              "    </tr>\n",
              "    <tr>\n",
              "      <th>...</th>\n",
              "      <td>...</td>\n",
              "      <td>...</td>\n",
              "      <td>...</td>\n",
              "      <td>...</td>\n",
              "      <td>...</td>\n",
              "    </tr>\n",
              "    <tr>\n",
              "      <th>395</th>\n",
              "      <td>15691863</td>\n",
              "      <td>Female</td>\n",
              "      <td>46</td>\n",
              "      <td>41000</td>\n",
              "      <td>1</td>\n",
              "    </tr>\n",
              "    <tr>\n",
              "      <th>396</th>\n",
              "      <td>15706071</td>\n",
              "      <td>Male</td>\n",
              "      <td>51</td>\n",
              "      <td>23000</td>\n",
              "      <td>1</td>\n",
              "    </tr>\n",
              "    <tr>\n",
              "      <th>397</th>\n",
              "      <td>15654296</td>\n",
              "      <td>Female</td>\n",
              "      <td>50</td>\n",
              "      <td>20000</td>\n",
              "      <td>1</td>\n",
              "    </tr>\n",
              "    <tr>\n",
              "      <th>398</th>\n",
              "      <td>15755018</td>\n",
              "      <td>Male</td>\n",
              "      <td>36</td>\n",
              "      <td>33000</td>\n",
              "      <td>0</td>\n",
              "    </tr>\n",
              "    <tr>\n",
              "      <th>399</th>\n",
              "      <td>15594041</td>\n",
              "      <td>Female</td>\n",
              "      <td>49</td>\n",
              "      <td>36000</td>\n",
              "      <td>1</td>\n",
              "    </tr>\n",
              "  </tbody>\n",
              "</table>\n",
              "<p>400 rows × 5 columns</p>\n",
              "</div>\n",
              "      <button class=\"colab-df-convert\" onclick=\"convertToInteractive('df-71ecd18a-d458-4b16-a21a-45f61b1af7b4')\"\n",
              "              title=\"Convert this dataframe to an interactive table.\"\n",
              "              style=\"display:none;\">\n",
              "        \n",
              "  <svg xmlns=\"http://www.w3.org/2000/svg\" height=\"24px\"viewBox=\"0 0 24 24\"\n",
              "       width=\"24px\">\n",
              "    <path d=\"M0 0h24v24H0V0z\" fill=\"none\"/>\n",
              "    <path d=\"M18.56 5.44l.94 2.06.94-2.06 2.06-.94-2.06-.94-.94-2.06-.94 2.06-2.06.94zm-11 1L8.5 8.5l.94-2.06 2.06-.94-2.06-.94L8.5 2.5l-.94 2.06-2.06.94zm10 10l.94 2.06.94-2.06 2.06-.94-2.06-.94-.94-2.06-.94 2.06-2.06.94z\"/><path d=\"M17.41 7.96l-1.37-1.37c-.4-.4-.92-.59-1.43-.59-.52 0-1.04.2-1.43.59L10.3 9.45l-7.72 7.72c-.78.78-.78 2.05 0 2.83L4 21.41c.39.39.9.59 1.41.59.51 0 1.02-.2 1.41-.59l7.78-7.78 2.81-2.81c.8-.78.8-2.07 0-2.86zM5.41 20L4 18.59l7.72-7.72 1.47 1.35L5.41 20z\"/>\n",
              "  </svg>\n",
              "      </button>\n",
              "      \n",
              "  <style>\n",
              "    .colab-df-container {\n",
              "      display:flex;\n",
              "      flex-wrap:wrap;\n",
              "      gap: 12px;\n",
              "    }\n",
              "\n",
              "    .colab-df-convert {\n",
              "      background-color: #E8F0FE;\n",
              "      border: none;\n",
              "      border-radius: 50%;\n",
              "      cursor: pointer;\n",
              "      display: none;\n",
              "      fill: #1967D2;\n",
              "      height: 32px;\n",
              "      padding: 0 0 0 0;\n",
              "      width: 32px;\n",
              "    }\n",
              "\n",
              "    .colab-df-convert:hover {\n",
              "      background-color: #E2EBFA;\n",
              "      box-shadow: 0px 1px 2px rgba(60, 64, 67, 0.3), 0px 1px 3px 1px rgba(60, 64, 67, 0.15);\n",
              "      fill: #174EA6;\n",
              "    }\n",
              "\n",
              "    [theme=dark] .colab-df-convert {\n",
              "      background-color: #3B4455;\n",
              "      fill: #D2E3FC;\n",
              "    }\n",
              "\n",
              "    [theme=dark] .colab-df-convert:hover {\n",
              "      background-color: #434B5C;\n",
              "      box-shadow: 0px 1px 3px 1px rgba(0, 0, 0, 0.15);\n",
              "      filter: drop-shadow(0px 1px 2px rgba(0, 0, 0, 0.3));\n",
              "      fill: #FFFFFF;\n",
              "    }\n",
              "  </style>\n",
              "\n",
              "      <script>\n",
              "        const buttonEl =\n",
              "          document.querySelector('#df-71ecd18a-d458-4b16-a21a-45f61b1af7b4 button.colab-df-convert');\n",
              "        buttonEl.style.display =\n",
              "          google.colab.kernel.accessAllowed ? 'block' : 'none';\n",
              "\n",
              "        async function convertToInteractive(key) {\n",
              "          const element = document.querySelector('#df-71ecd18a-d458-4b16-a21a-45f61b1af7b4');\n",
              "          const dataTable =\n",
              "            await google.colab.kernel.invokeFunction('convertToInteractive',\n",
              "                                                     [key], {});\n",
              "          if (!dataTable) return;\n",
              "\n",
              "          const docLinkHtml = 'Like what you see? Visit the ' +\n",
              "            '<a target=\"_blank\" href=https://colab.research.google.com/notebooks/data_table.ipynb>data table notebook</a>'\n",
              "            + ' to learn more about interactive tables.';\n",
              "          element.innerHTML = '';\n",
              "          dataTable['output_type'] = 'display_data';\n",
              "          await google.colab.output.renderOutput(dataTable, element);\n",
              "          const docLink = document.createElement('div');\n",
              "          docLink.innerHTML = docLinkHtml;\n",
              "          element.appendChild(docLink);\n",
              "        }\n",
              "      </script>\n",
              "    </div>\n",
              "  </div>\n",
              "  "
            ]
          },
          "metadata": {},
          "execution_count": 2
        }
      ]
    },
    {
      "cell_type": "code",
      "source": [
        "data.head()"
      ],
      "metadata": {
        "colab": {
          "base_uri": "https://localhost:8080/",
          "height": 206
        },
        "id": "ByIMbBW0Zz07",
        "outputId": "f6b6f1e8-14b3-433a-bee9-88211661bcbd"
      },
      "execution_count": null,
      "outputs": [
        {
          "output_type": "execute_result",
          "data": {
            "text/plain": [
              "    User ID  Gender  Age  EstimatedSalary  Purchased\n",
              "0  15624510    Male   19            19000          0\n",
              "1  15810944    Male   35            20000          0\n",
              "2  15668575  Female   26            43000          0\n",
              "3  15603246  Female   27            57000          0\n",
              "4  15804002    Male   19            76000          0"
            ],
            "text/html": [
              "\n",
              "  <div id=\"df-7682ddd5-2d07-4491-9b70-55fb320ff5de\">\n",
              "    <div class=\"colab-df-container\">\n",
              "      <div>\n",
              "<style scoped>\n",
              "    .dataframe tbody tr th:only-of-type {\n",
              "        vertical-align: middle;\n",
              "    }\n",
              "\n",
              "    .dataframe tbody tr th {\n",
              "        vertical-align: top;\n",
              "    }\n",
              "\n",
              "    .dataframe thead th {\n",
              "        text-align: right;\n",
              "    }\n",
              "</style>\n",
              "<table border=\"1\" class=\"dataframe\">\n",
              "  <thead>\n",
              "    <tr style=\"text-align: right;\">\n",
              "      <th></th>\n",
              "      <th>User ID</th>\n",
              "      <th>Gender</th>\n",
              "      <th>Age</th>\n",
              "      <th>EstimatedSalary</th>\n",
              "      <th>Purchased</th>\n",
              "    </tr>\n",
              "  </thead>\n",
              "  <tbody>\n",
              "    <tr>\n",
              "      <th>0</th>\n",
              "      <td>15624510</td>\n",
              "      <td>Male</td>\n",
              "      <td>19</td>\n",
              "      <td>19000</td>\n",
              "      <td>0</td>\n",
              "    </tr>\n",
              "    <tr>\n",
              "      <th>1</th>\n",
              "      <td>15810944</td>\n",
              "      <td>Male</td>\n",
              "      <td>35</td>\n",
              "      <td>20000</td>\n",
              "      <td>0</td>\n",
              "    </tr>\n",
              "    <tr>\n",
              "      <th>2</th>\n",
              "      <td>15668575</td>\n",
              "      <td>Female</td>\n",
              "      <td>26</td>\n",
              "      <td>43000</td>\n",
              "      <td>0</td>\n",
              "    </tr>\n",
              "    <tr>\n",
              "      <th>3</th>\n",
              "      <td>15603246</td>\n",
              "      <td>Female</td>\n",
              "      <td>27</td>\n",
              "      <td>57000</td>\n",
              "      <td>0</td>\n",
              "    </tr>\n",
              "    <tr>\n",
              "      <th>4</th>\n",
              "      <td>15804002</td>\n",
              "      <td>Male</td>\n",
              "      <td>19</td>\n",
              "      <td>76000</td>\n",
              "      <td>0</td>\n",
              "    </tr>\n",
              "  </tbody>\n",
              "</table>\n",
              "</div>\n",
              "      <button class=\"colab-df-convert\" onclick=\"convertToInteractive('df-7682ddd5-2d07-4491-9b70-55fb320ff5de')\"\n",
              "              title=\"Convert this dataframe to an interactive table.\"\n",
              "              style=\"display:none;\">\n",
              "        \n",
              "  <svg xmlns=\"http://www.w3.org/2000/svg\" height=\"24px\"viewBox=\"0 0 24 24\"\n",
              "       width=\"24px\">\n",
              "    <path d=\"M0 0h24v24H0V0z\" fill=\"none\"/>\n",
              "    <path d=\"M18.56 5.44l.94 2.06.94-2.06 2.06-.94-2.06-.94-.94-2.06-.94 2.06-2.06.94zm-11 1L8.5 8.5l.94-2.06 2.06-.94-2.06-.94L8.5 2.5l-.94 2.06-2.06.94zm10 10l.94 2.06.94-2.06 2.06-.94-2.06-.94-.94-2.06-.94 2.06-2.06.94z\"/><path d=\"M17.41 7.96l-1.37-1.37c-.4-.4-.92-.59-1.43-.59-.52 0-1.04.2-1.43.59L10.3 9.45l-7.72 7.72c-.78.78-.78 2.05 0 2.83L4 21.41c.39.39.9.59 1.41.59.51 0 1.02-.2 1.41-.59l7.78-7.78 2.81-2.81c.8-.78.8-2.07 0-2.86zM5.41 20L4 18.59l7.72-7.72 1.47 1.35L5.41 20z\"/>\n",
              "  </svg>\n",
              "      </button>\n",
              "      \n",
              "  <style>\n",
              "    .colab-df-container {\n",
              "      display:flex;\n",
              "      flex-wrap:wrap;\n",
              "      gap: 12px;\n",
              "    }\n",
              "\n",
              "    .colab-df-convert {\n",
              "      background-color: #E8F0FE;\n",
              "      border: none;\n",
              "      border-radius: 50%;\n",
              "      cursor: pointer;\n",
              "      display: none;\n",
              "      fill: #1967D2;\n",
              "      height: 32px;\n",
              "      padding: 0 0 0 0;\n",
              "      width: 32px;\n",
              "    }\n",
              "\n",
              "    .colab-df-convert:hover {\n",
              "      background-color: #E2EBFA;\n",
              "      box-shadow: 0px 1px 2px rgba(60, 64, 67, 0.3), 0px 1px 3px 1px rgba(60, 64, 67, 0.15);\n",
              "      fill: #174EA6;\n",
              "    }\n",
              "\n",
              "    [theme=dark] .colab-df-convert {\n",
              "      background-color: #3B4455;\n",
              "      fill: #D2E3FC;\n",
              "    }\n",
              "\n",
              "    [theme=dark] .colab-df-convert:hover {\n",
              "      background-color: #434B5C;\n",
              "      box-shadow: 0px 1px 3px 1px rgba(0, 0, 0, 0.15);\n",
              "      filter: drop-shadow(0px 1px 2px rgba(0, 0, 0, 0.3));\n",
              "      fill: #FFFFFF;\n",
              "    }\n",
              "  </style>\n",
              "\n",
              "      <script>\n",
              "        const buttonEl =\n",
              "          document.querySelector('#df-7682ddd5-2d07-4491-9b70-55fb320ff5de button.colab-df-convert');\n",
              "        buttonEl.style.display =\n",
              "          google.colab.kernel.accessAllowed ? 'block' : 'none';\n",
              "\n",
              "        async function convertToInteractive(key) {\n",
              "          const element = document.querySelector('#df-7682ddd5-2d07-4491-9b70-55fb320ff5de');\n",
              "          const dataTable =\n",
              "            await google.colab.kernel.invokeFunction('convertToInteractive',\n",
              "                                                     [key], {});\n",
              "          if (!dataTable) return;\n",
              "\n",
              "          const docLinkHtml = 'Like what you see? Visit the ' +\n",
              "            '<a target=\"_blank\" href=https://colab.research.google.com/notebooks/data_table.ipynb>data table notebook</a>'\n",
              "            + ' to learn more about interactive tables.';\n",
              "          element.innerHTML = '';\n",
              "          dataTable['output_type'] = 'display_data';\n",
              "          await google.colab.output.renderOutput(dataTable, element);\n",
              "          const docLink = document.createElement('div');\n",
              "          docLink.innerHTML = docLinkHtml;\n",
              "          element.appendChild(docLink);\n",
              "        }\n",
              "      </script>\n",
              "    </div>\n",
              "  </div>\n",
              "  "
            ]
          },
          "metadata": {},
          "execution_count": 3
        }
      ]
    },
    {
      "cell_type": "markdown",
      "source": [
        "Splitting the dataset into the Training set and Test set"
      ],
      "metadata": {
        "id": "dJSqa1O7Z3on"
      }
    },
    {
      "cell_type": "code",
      "source": [
        "X=data.iloc[:,2:4]\n",
        "y=data.iloc[:,-1].values"
      ],
      "metadata": {
        "id": "Gi9k7dAPZ4fd"
      },
      "execution_count": null,
      "outputs": []
    },
    {
      "cell_type": "code",
      "source": [
        "X.shape"
      ],
      "metadata": {
        "colab": {
          "base_uri": "https://localhost:8080/"
        },
        "id": "zGjVMY_QZ-T0",
        "outputId": "89ca11df-0830-4144-cd98-ae65f1985ff7"
      },
      "execution_count": null,
      "outputs": [
        {
          "output_type": "execute_result",
          "data": {
            "text/plain": [
              "(400, 2)"
            ]
          },
          "metadata": {},
          "execution_count": 5
        }
      ]
    },
    {
      "cell_type": "code",
      "source": [
        "y.shape"
      ],
      "metadata": {
        "colab": {
          "base_uri": "https://localhost:8080/"
        },
        "id": "oDanVpOyaAin",
        "outputId": "117c522d-89cd-404f-f440-1b511166a0d8"
      },
      "execution_count": null,
      "outputs": [
        {
          "output_type": "execute_result",
          "data": {
            "text/plain": [
              "(400,)"
            ]
          },
          "metadata": {},
          "execution_count": 6
        }
      ]
    },
    {
      "cell_type": "code",
      "source": [
        "from sklearn.model_selection import train_test_split\n",
        "X_train,X_test,y_train,y_test=train_test_split(X,y,test_size=0.2)"
      ],
      "metadata": {
        "id": "yeLZoMdgaC7d"
      },
      "execution_count": null,
      "outputs": []
    },
    {
      "cell_type": "code",
      "source": [
        "X_train.shape"
      ],
      "metadata": {
        "colab": {
          "base_uri": "https://localhost:8080/"
        },
        "id": "GohR_RtTaE1d",
        "outputId": "c602a22c-768f-4be4-c098-48d4e5cd3ca4"
      },
      "execution_count": null,
      "outputs": [
        {
          "output_type": "execute_result",
          "data": {
            "text/plain": [
              "(320, 2)"
            ]
          },
          "metadata": {},
          "execution_count": 8
        }
      ]
    },
    {
      "cell_type": "code",
      "source": [
        "X_test.shape"
      ],
      "metadata": {
        "colab": {
          "base_uri": "https://localhost:8080/"
        },
        "id": "cEkbHSA1aGxI",
        "outputId": "5b5c3396-24b3-4298-c3db-e8d759390dc7"
      },
      "execution_count": null,
      "outputs": [
        {
          "output_type": "execute_result",
          "data": {
            "text/plain": [
              "(80, 2)"
            ]
          },
          "metadata": {},
          "execution_count": 9
        }
      ]
    },
    {
      "cell_type": "markdown",
      "source": [
        "Feature Scaling"
      ],
      "metadata": {
        "id": "HBDGe29raKNS"
      }
    },
    {
      "cell_type": "code",
      "source": [
        "from sklearn.preprocessing import StandardScaler\n",
        "scaler = StandardScaler()"
      ],
      "metadata": {
        "id": "Fa3C9PzTaLDM"
      },
      "execution_count": null,
      "outputs": []
    },
    {
      "cell_type": "markdown",
      "source": [
        "Fitting K-NN to the Training set"
      ],
      "metadata": {
        "id": "_1CKMWcSaQgB"
      }
    },
    {
      "cell_type": "code",
      "source": [
        "X_train = scaler.fit_transform(X_train)\n",
        "X_train"
      ],
      "metadata": {
        "colab": {
          "base_uri": "https://localhost:8080/"
        },
        "id": "VajxGCQHaSc6",
        "outputId": "1a76358b-1164-49b0-ff66-75ba218c81e5"
      },
      "execution_count": null,
      "outputs": [
        {
          "output_type": "execute_result",
          "data": {
            "text/plain": [
              "array([[ 1.08582119e+00,  4.69467127e-01],\n",
              "       [ 6.09322587e-01,  2.02184819e+00],\n",
              "       [ 8.95221748e-01, -7.90011850e-01],\n",
              "       [-7.24873498e-01, -1.55155728e+00],\n",
              "       [-2.48374896e-01,  8.86944134e-02],\n",
              "       [ 4.18723146e-01,  2.31475028e+00],\n",
              "       [ 2.03881839e+00,  3.81596501e-01],\n",
              "       [-1.01077266e+00, -3.79948927e-01],\n",
              "       [-7.24873498e-01, -1.61013769e+00],\n",
              "       [-1.01077266e+00,  1.96326777e+00],\n",
              "       [ 5.14022866e-01,  1.84610694e+00],\n",
              "       [-1.10607238e+00, -1.55155728e+00],\n",
              "       [-9.15472938e-01, -3.21368509e-01],\n",
              "       [ 2.03881839e+00,  5.28047545e-01],\n",
              "       [-6.29573777e-01, -1.52226707e+00],\n",
              "       [-4.38974337e-01,  2.31475028e+00],\n",
              "       [-9.15472938e-01,  5.57337754e-01],\n",
              "       [-5.34274057e-01,  1.46533423e+00],\n",
              "       [-4.38974337e-01,  1.26030276e+00],\n",
              "       [ 3.23423426e-01, -5.26399971e-01],\n",
              "       [ 8.95221748e-01, -1.31723561e+00],\n",
              "       [ 7.04622307e-01, -1.40510623e+00],\n",
              "       [-5.77754554e-02, -4.38529344e-01],\n",
              "       [-5.77754554e-02,  2.93725875e-01],\n",
              "       [ 2.28123705e-01, -3.79948927e-01],\n",
              "       [-5.77754554e-02,  2.05855248e-01],\n",
              "       [-9.15472938e-01, -1.11220415e+00],\n",
              "       [-2.48374896e-01, -3.79948927e-01],\n",
              "       [ 1.84821895e+00,  1.52391464e+00],\n",
              "       [ 1.08582119e+00, -1.45627257e-01],\n",
              "       [-1.48727126e+00, -2.04207674e-01],\n",
              "       [ 3.23423426e-01,  5.94042047e-02],\n",
              "       [-5.77754554e-02,  2.35145457e-01],\n",
              "       [ 3.23423426e-01, -5.26399971e-01],\n",
              "       [-2.48374896e-01,  1.47274831e-01],\n",
              "       [ 1.84821895e+00, -1.08291394e+00],\n",
              "       [-8.20173218e-01,  3.81596501e-01],\n",
              "       [ 8.95221748e-01, -1.46368665e+00],\n",
              "       [-1.39197154e+00, -1.16337048e-01],\n",
              "       [-1.77317042e+00, -1.49297686e+00],\n",
              "       [ 2.28123705e-01,  3.01139959e-02],\n",
              "       [-2.48374896e-01,  5.28047545e-01],\n",
              "       [-1.86847014e+00,  4.69467127e-01],\n",
              "       [ 4.18723146e-01, -1.74917465e-01],\n",
              "       [ 1.84821895e+00,  1.17984622e-01],\n",
              "       [-8.20173218e-01,  2.28546007e+00],\n",
              "       [-1.53075176e-01, -2.92078301e-01],\n",
              "       [ 2.28123705e-01,  2.35145457e-01],\n",
              "       [-6.29573777e-01, -5.77566304e-02],\n",
              "       [-5.34274057e-01,  1.37746360e+00],\n",
              "       [ 2.03881839e+00,  1.76565040e-01],\n",
              "       [ 1.08582119e+00, -9.95043311e-01],\n",
              "       [-1.10607238e+00, -1.61013769e+00],\n",
              "       [-5.34274057e-01,  2.34404049e+00],\n",
              "       [-2.48374896e-01, -1.31723561e+00],\n",
              "       [ 1.32823985e-01, -8.19302058e-01],\n",
              "       [-1.77317042e+00, -1.43439644e+00],\n",
              "       [ 2.28123705e-01,  1.47274831e-01],\n",
              "       [ 9.90521468e-01, -1.08291394e+00],\n",
              "       [ 3.23423426e-01, -2.92078301e-01],\n",
              "       [-2.48374896e-01, -4.97109762e-01],\n",
              "       [-3.43674616e-01,  5.94042047e-02],\n",
              "       [-2.48374896e-01, -7.60721641e-01],\n",
              "       [ 1.56231979e+00,  1.11385172e+00],\n",
              "       [ 7.99922027e-01, -1.11220415e+00],\n",
              "       [ 3.23423426e-01, -3.21368509e-01],\n",
              "       [-1.10607238e+00, -1.02433352e+00],\n",
              "       [ 2.13411811e+00,  3.81596501e-01],\n",
              "       [ 8.95221748e-01, -5.55690179e-01],\n",
              "       [-1.20137210e+00,  2.64435666e-01],\n",
              "       [ 4.18723146e-01,  1.11385172e+00],\n",
              "       [-3.43674616e-01,  1.23101256e+00],\n",
              "       [-8.20173218e-01, -7.90011850e-01],\n",
              "       [-4.38974337e-01, -1.14149435e+00],\n",
              "       [ 1.32823985e-01,  3.01139959e-02],\n",
              "       [ 4.18723146e-01,  2.64435666e-01],\n",
              "       [ 1.75291923e+00,  1.84610694e+00],\n",
              "       [ 1.37172035e+00, -1.43439644e+00],\n",
              "       [ 7.04622307e-01,  1.78752652e+00],\n",
              "       [-9.15472938e-01, -7.60721641e-01],\n",
              "       [-1.67787070e+00, -6.14270597e-01],\n",
              "       [-7.24873498e-01,  1.08456151e+00],\n",
              "       [ 7.99922027e-01,  1.17984622e-01],\n",
              "       [-2.48374896e-01, -1.40510623e+00],\n",
              "       [-7.24873498e-01,  2.93725875e-01],\n",
              "       [-1.58257098e+00, -5.77566304e-02],\n",
              "       [-6.29573777e-01, -1.16337048e-01],\n",
              "       [-1.53075176e-01,  1.40675381e+00],\n",
              "       [-1.86847014e+00, -5.26399971e-01],\n",
              "       [ 1.65761951e+00,  1.75823631e+00],\n",
              "       [ 1.65761951e+00, -9.07172685e-01],\n",
              "       [ 2.28123705e-01,  1.47274831e-01],\n",
              "       [ 1.37172035e+00,  2.34404049e+00],\n",
              "       [-2.48374896e-01,  1.47274831e-01],\n",
              "       [-1.67787070e+00,  4.69467127e-01],\n",
              "       [-1.48727126e+00, -1.25865519e+00],\n",
              "       [ 2.28123705e-01, -1.45627257e-01],\n",
              "       [-1.39197154e+00, -1.22936498e+00],\n",
              "       [ 3.75242649e-02, -5.84980388e-01],\n",
              "       [-1.20137210e+00, -1.40510623e+00],\n",
              "       [ 4.18723146e-01,  9.96690885e-01],\n",
              "       [-1.29667182e+00,  5.57337754e-01],\n",
              "       [ 1.27642063e+00, -1.37581602e+00],\n",
              "       [ 3.23423426e-01, -7.31431432e-01],\n",
              "       [-3.43674616e-01,  1.31888318e+00],\n",
              "       [ 2.28123705e-01,  5.94042047e-02],\n",
              "       [-1.20137210e+00,  4.98757336e-01],\n",
              "       [ 1.32823985e-01,  1.52391464e+00],\n",
              "       [ 1.32823985e-01,  7.62369215e-01],\n",
              "       [-1.58257098e+00,  5.28047545e-01],\n",
              "       [-5.77754554e-02,  2.64435666e-01],\n",
              "       [ 1.56231979e+00,  9.96690885e-01],\n",
              "       [-1.67787070e+00,  3.52306292e-01],\n",
              "       [-8.20173218e-01, -7.90011850e-01],\n",
              "       [ 4.18723146e-01, -4.97109762e-01],\n",
              "       [-5.77754554e-02, -4.97109762e-01],\n",
              "       [-1.53075176e-01, -5.26399971e-01],\n",
              "       [-5.77754554e-02,  2.93725875e-01],\n",
              "       [-2.48374896e-01,  1.11385172e+00],\n",
              "       [-1.29667182e+00,  4.10886710e-01],\n",
              "       [-5.34274057e-01,  1.37746360e+00],\n",
              "       [ 1.32823985e-01,  1.87539715e+00],\n",
              "       [-6.29573777e-01,  1.76565040e-01],\n",
              "       [-9.15472938e-01, -3.21368509e-01],\n",
              "       [ 8.95221748e-01, -6.14270597e-01],\n",
              "       [-1.29667182e+00, -3.50658718e-01],\n",
              "       [ 9.90521468e-01,  1.78752652e+00],\n",
              "       [ 2.28123705e-01, -3.79948927e-01],\n",
              "       [-5.34274057e-01,  4.69467127e-01],\n",
              "       [ 1.27642063e+00,  1.87539715e+00],\n",
              "       [-2.48374896e-01, -1.45627257e-01],\n",
              "       [ 2.03881839e+00,  1.75823631e+00],\n",
              "       [ 1.32823985e-01, -2.62788092e-01],\n",
              "       [ 9.90521468e-01,  5.86627962e-01],\n",
              "       [ 1.08582119e+00, -1.22936498e+00],\n",
              "       [ 9.90521468e-01, -1.08291394e+00],\n",
              "       [ 2.13411811e+00, -7.02141223e-01],\n",
              "       [-2.48374896e-01, -1.37581602e+00],\n",
              "       [ 1.32823985e-01,  2.05855248e-01],\n",
              "       [-2.48374896e-01,  5.94042047e-02],\n",
              "       [-5.77754554e-02,  1.47274831e-01],\n",
              "       [-6.29573777e-01,  3.01139959e-02],\n",
              "       [-1.01077266e+00, -3.50658718e-01],\n",
              "       [ 1.32823985e-01, -3.21368509e-01],\n",
              "       [-1.86847014e+00,  3.52306292e-01],\n",
              "       [ 7.99922027e-01,  3.52306292e-01],\n",
              "       [ 5.14022866e-01,  1.23101256e+00],\n",
              "       [-9.15472938e-01, -4.38529344e-01],\n",
              "       [-6.29573777e-01, -3.50658718e-01],\n",
              "       [ 7.99922027e-01,  1.37746360e+00],\n",
              "       [ 3.75242649e-02, -4.38529344e-01],\n",
              "       [-1.58257098e+00,  5.94042047e-02],\n",
              "       [-9.15472938e-01,  2.64435666e-01],\n",
              "       [-9.15472938e-01, -9.65753102e-01],\n",
              "       [-1.29667182e+00, -1.11220415e+00],\n",
              "       [-1.29667182e+00, -4.38529344e-01],\n",
              "       [-1.29667182e+00, -4.38529344e-01],\n",
              "       [ 9.90521468e-01,  1.43604402e+00],\n",
              "       [ 1.32823985e-01,  3.01139959e-02],\n",
              "       [ 1.32823985e-01,  1.05527130e+00],\n",
              "       [-2.48374896e-01,  2.05855248e-01],\n",
              "       [ 4.18723146e-01, -1.45627257e-01],\n",
              "       [-1.86847014e+00, -5.77566304e-02],\n",
              "       [ 1.18112091e+00, -7.60721641e-01],\n",
              "       [ 3.75242649e-02,  3.01139959e-02],\n",
              "       [-1.58257098e+00, -1.58084749e+00],\n",
              "       [-1.10607238e+00,  2.93725875e-01],\n",
              "       [ 3.75242649e-02, -2.62788092e-01],\n",
              "       [-1.77317042e+00,  8.23787122e-04],\n",
              "       [-4.38974337e-01, -5.55690179e-01],\n",
              "       [-1.01077266e+00, -1.14149435e+00],\n",
              "       [-1.29667182e+00, -1.49297686e+00],\n",
              "       [-1.10607238e+00,  5.94042047e-02],\n",
              "       [ 3.23423426e-01,  3.01139959e-02],\n",
              "       [-9.15472938e-01,  4.40176919e-01],\n",
              "       [-1.10607238e+00,  4.69467127e-01],\n",
              "       [-8.20173218e-01, -6.72851014e-01],\n",
              "       [ 9.90521468e-01, -1.02433352e+00],\n",
              "       [ 1.94351867e+00, -1.37581602e+00],\n",
              "       [-1.10607238e+00, -1.17078456e+00],\n",
              "       [ 9.90521468e-01,  2.08042861e+00],\n",
              "       [-1.77317042e+00, -1.31723561e+00],\n",
              "       [ 8.95221748e-01, -1.37581602e+00],\n",
              "       [-2.48374896e-01, -5.84980388e-01],\n",
              "       [ 3.23423426e-01,  2.64435666e-01],\n",
              "       [ 1.32823985e-01,  1.87539715e+00],\n",
              "       [ 2.28123705e-01,  1.08456151e+00],\n",
              "       [-1.53075176e-01,  2.16829924e+00],\n",
              "       [-2.48374896e-01, -4.38529344e-01],\n",
              "       [-5.77754554e-02,  8.23787122e-04],\n",
              "       [ 4.18723146e-01,  1.47274831e-01],\n",
              "       [ 7.99922027e-01, -1.40510623e+00],\n",
              "       [ 7.99922027e-01, -1.22936498e+00],\n",
              "       [-4.38974337e-01, -2.84664216e-02],\n",
              "       [ 8.95221748e-01,  2.16829924e+00],\n",
              "       [ 1.08582119e+00,  5.57337754e-01],\n",
              "       [-1.48727126e+00, -4.38529344e-01],\n",
              "       [-8.20173218e-01,  1.47274831e-01],\n",
              "       [ 7.99922027e-01,  7.62369215e-01],\n",
              "       [-1.67787070e+00, -9.95043311e-01],\n",
              "       [-1.20137210e+00,  2.93725875e-01],\n",
              "       [ 1.37172035e+00,  1.28959297e+00],\n",
              "       [-5.34274057e-01, -1.52226707e+00],\n",
              "       [-1.39197154e+00,  3.52306292e-01],\n",
              "       [-4.38974337e-01, -8.48592267e-01],\n",
              "       [ 7.04622307e-01, -1.11220415e+00],\n",
              "       [-2.48374896e-01,  2.64435666e-01],\n",
              "       [ 1.56231979e+00,  8.23787122e-04],\n",
              "       [-1.20137210e+00,  5.86627962e-01],\n",
              "       [ 2.03881839e+00,  2.13900903e+00],\n",
              "       [ 1.94351867e+00,  9.08820259e-01],\n",
              "       [ 9.90521468e-01, -1.17078456e+00],\n",
              "       [-7.24873498e-01,  1.90468736e+00],\n",
              "       [ 1.18112091e+00, -1.46368665e+00],\n",
              "       [-2.48374896e-01,  5.94042047e-02],\n",
              "       [-1.77317042e+00,  4.40176919e-01],\n",
              "       [ 3.23423426e-01, -5.55690179e-01],\n",
              "       [-1.01077266e+00, -3.50658718e-01],\n",
              "       [ 2.28123705e-01, -3.21368509e-01],\n",
              "       [-2.48374896e-01, -2.92078301e-01],\n",
              "       [ 2.13411811e+00, -8.19302058e-01],\n",
              "       [ 1.18112091e+00,  5.28047545e-01],\n",
              "       [ 3.75242649e-02, -5.84980388e-01],\n",
              "       [-1.01077266e+00,  5.86627962e-01],\n",
              "       [-6.29573777e-01,  1.17984622e-01],\n",
              "       [-2.48374896e-01, -5.84980388e-01],\n",
              "       [ 1.46702007e+00,  5.94042047e-02],\n",
              "       [-4.38974337e-01, -1.22936498e+00],\n",
              "       [ 2.13411811e+00,  9.38110468e-01],\n",
              "       [-1.10607238e+00, -5.26399971e-01],\n",
              "       [ 1.08582119e+00,  1.17984622e-01],\n",
              "       [-5.34274057e-01,  1.90468736e+00],\n",
              "       [ 1.37172035e+00,  5.86627962e-01],\n",
              "       [ 3.23423426e-01, -2.04207674e-01],\n",
              "       [-1.01077266e+00,  7.62369215e-01],\n",
              "       [ 1.46702007e+00,  3.52306292e-01],\n",
              "       [ 3.23423426e-01,  5.94042047e-02],\n",
              "       [-5.77754554e-02,  3.01139959e-02],\n",
              "       [ 7.04622307e-01, -1.28794540e+00],\n",
              "       [ 1.32823985e-01,  1.47274831e-01],\n",
              "       [ 7.04622307e-01,  2.64435666e-01],\n",
              "       [ 1.37172035e+00,  1.99255798e+00],\n",
              "       [-1.39197154e+00, -6.43560806e-01],\n",
              "       [ 1.94351867e+00,  2.16829924e+00],\n",
              "       [ 1.32823985e-01,  2.64435666e-01],\n",
              "       [ 7.99922027e-01,  5.28047545e-01],\n",
              "       [-2.48374896e-01, -2.62788092e-01],\n",
              "       [ 1.08582119e+00, -1.22936498e+00],\n",
              "       [ 3.75242649e-02, -2.62788092e-01],\n",
              "       [-3.43674616e-01, -7.90011850e-01],\n",
              "       [-2.48374896e-01,  2.25616986e+00],\n",
              "       [ 3.75242649e-02,  3.01139959e-02],\n",
              "       [ 4.18723146e-01,  2.93725875e-01],\n",
              "       [-1.01077266e+00,  4.10886710e-01],\n",
              "       [-1.48727126e+00, -1.52226707e+00],\n",
              "       [ 7.04622307e-01, -7.31431432e-01],\n",
              "       [-1.53075176e-01, -2.04207674e-01],\n",
              "       [-5.34274057e-01, -1.52226707e+00],\n",
              "       [ 7.99922027e-01, -3.21368509e-01],\n",
              "       [-1.10607238e+00, -7.90011850e-01],\n",
              "       [-5.77754554e-02,  2.22687965e+00],\n",
              "       [-1.39197154e+00, -1.46368665e+00],\n",
              "       [ 1.27642063e+00,  2.22687965e+00],\n",
              "       [ 8.95221748e-01,  1.08456151e+00],\n",
              "       [ 1.94351867e+00, -6.72851014e-01],\n",
              "       [ 4.18723146e-01,  8.86944134e-02],\n",
              "       [-1.39197154e+00, -2.04207674e-01],\n",
              "       [-2.48374896e-01,  3.01139959e-02],\n",
              "       [-1.10607238e+00, -1.61013769e+00],\n",
              "       [ 3.23423426e-01,  4.98757336e-01],\n",
              "       [ 8.95221748e-01, -1.17078456e+00],\n",
              "       [-1.01077266e+00, -1.46368665e+00],\n",
              "       [ 4.18723146e-01, -4.67819553e-01],\n",
              "       [ 3.23423426e-01, -1.17078456e+00],\n",
              "       [-1.10607238e+00, -1.11220415e+00],\n",
              "       [-5.77754554e-02, -1.08291394e+00],\n",
              "       [ 3.75242649e-02, -5.55690179e-01],\n",
              "       [ 8.95221748e-01, -1.05362373e+00],\n",
              "       [-2.48374896e-01, -9.07172685e-01],\n",
              "       [-4.38974337e-01, -2.92078301e-01],\n",
              "       [ 7.99922027e-01, -1.37581602e+00],\n",
              "       [-6.29573777e-01, -1.61013769e+00],\n",
              "       [ 2.03881839e+00, -1.20007477e+00],\n",
              "       [ 1.46702007e+00,  2.13900903e+00],\n",
              "       [-1.53075176e-01,  1.47274831e-01],\n",
              "       [ 3.23423426e-01,  5.94042047e-02],\n",
              "       [-5.77754554e-02, -5.26399971e-01],\n",
              "       [ 1.37172035e+00, -9.36462893e-01],\n",
              "       [-5.34274057e-01,  8.79530050e-01],\n",
              "       [-3.43674616e-01, -7.90011850e-01],\n",
              "       [ 2.13411811e+00,  1.11385172e+00],\n",
              "       [-1.86847014e+00, -7.60721641e-01],\n",
              "       [-1.48727126e+00,  3.23016084e-01],\n",
              "       [-1.01077266e+00,  5.57337754e-01],\n",
              "       [-5.77754554e-02, -2.33497883e-01],\n",
              "       [ 3.23423426e-01,  2.93725875e-01],\n",
              "       [ 7.99922027e-01,  2.64435666e-01],\n",
              "       [-1.53075176e-01,  8.50239841e-01],\n",
              "       [-1.29667182e+00, -1.37581602e+00],\n",
              "       [ 4.18723146e-01, -4.67819553e-01],\n",
              "       [-7.24873498e-01,  2.64435666e-01],\n",
              "       [ 1.75291923e+00,  9.96690885e-01],\n",
              "       [ 1.94351867e+00,  7.33079006e-01],\n",
              "       [-1.01077266e+00,  5.28047545e-01],\n",
              "       [-8.20173218e-01, -1.22936498e+00],\n",
              "       [ 8.95221748e-01,  1.02598109e+00],\n",
              "       [-1.10607238e+00,  3.23016084e-01],\n",
              "       [-1.20137210e+00, -1.08291394e+00],\n",
              "       [-1.53075176e-01,  1.61178527e+00],\n",
              "       [ 2.28123705e-01, -3.79948927e-01],\n",
              "       [ 1.56231979e+00, -1.28794540e+00],\n",
              "       [ 9.90521468e-01,  1.17984622e-01],\n",
              "       [ 1.08582119e+00,  2.08042861e+00],\n",
              "       [ 2.28123705e-01, -2.92078301e-01],\n",
              "       [-5.77754554e-02, -3.79948927e-01],\n",
              "       [ 1.32823985e-01, -8.19302058e-01],\n",
              "       [ 2.28123705e-01,  2.10971882e+00],\n",
              "       [ 1.08582119e+00, -9.07172685e-01],\n",
              "       [ 3.75242649e-02,  2.93725875e-01],\n",
              "       [ 9.90521468e-01,  7.62369215e-01]])"
            ]
          },
          "metadata": {},
          "execution_count": 11
        }
      ]
    },
    {
      "cell_type": "code",
      "source": [
        "np.sqrt(X_train.shape[0])"
      ],
      "metadata": {
        "colab": {
          "base_uri": "https://localhost:8080/"
        },
        "id": "8rQkP3EoaZ5n",
        "outputId": "77392ee4-1b01-4b15-806e-408ccc31bec0"
      },
      "execution_count": null,
      "outputs": [
        {
          "output_type": "execute_result",
          "data": {
            "text/plain": [
              "17.88854381999832"
            ]
          },
          "metadata": {},
          "execution_count": 12
        }
      ]
    },
    {
      "cell_type": "code",
      "source": [
        "k = 17"
      ],
      "metadata": {
        "id": "Fusm_wvGac7G"
      },
      "execution_count": null,
      "outputs": []
    },
    {
      "cell_type": "code",
      "source": [
        "from sklearn.neighbors import KNeighborsClassifier\n",
        "knn = KNeighborsClassifier(n_neighbors=k)"
      ],
      "metadata": {
        "id": "57AgrUBgafnr"
      },
      "execution_count": null,
      "outputs": []
    },
    {
      "cell_type": "code",
      "source": [
        "knn.fit(X_train,y_train)"
      ],
      "metadata": {
        "colab": {
          "base_uri": "https://localhost:8080/"
        },
        "id": "JEFPqbPsahti",
        "outputId": "ab06d4fc-8e1a-42ab-8994-b49344411d6a"
      },
      "execution_count": null,
      "outputs": [
        {
          "output_type": "execute_result",
          "data": {
            "text/plain": [
              "KNeighborsClassifier(n_neighbors=17)"
            ]
          },
          "metadata": {},
          "execution_count": 15
        }
      ]
    },
    {
      "cell_type": "code",
      "source": [
        "y_pred = knn.predict(X_test)"
      ],
      "metadata": {
        "colab": {
          "base_uri": "https://localhost:8080/"
        },
        "id": "F0bzuVv1akRP",
        "outputId": "e5c683fe-a7bb-4ecb-f935-62d085fbef1e"
      },
      "execution_count": null,
      "outputs": [
        {
          "output_type": "stream",
          "name": "stderr",
          "text": [
            "/usr/local/lib/python3.7/dist-packages/sklearn/base.py:444: UserWarning: X has feature names, but KNeighborsClassifier was fitted without feature names\n",
            "  f\"X has feature names, but {self.__class__.__name__} was fitted without\"\n"
          ]
        }
      ]
    },
    {
      "cell_type": "code",
      "source": [
        "y_pred.shape"
      ],
      "metadata": {
        "colab": {
          "base_uri": "https://localhost:8080/"
        },
        "id": "liaR7XdQamGw",
        "outputId": "284b27ec-8d3b-466c-e0b6-4dfe76776e95"
      },
      "execution_count": null,
      "outputs": [
        {
          "output_type": "execute_result",
          "data": {
            "text/plain": [
              "(80,)"
            ]
          },
          "metadata": {},
          "execution_count": 17
        }
      ]
    },
    {
      "cell_type": "code",
      "source": [
        "y_test.shape"
      ],
      "metadata": {
        "colab": {
          "base_uri": "https://localhost:8080/"
        },
        "id": "lLZ_htH5an9o",
        "outputId": "1d5f6fa4-1de8-4b2b-ce91-36e0da6c9abd"
      },
      "execution_count": null,
      "outputs": [
        {
          "output_type": "execute_result",
          "data": {
            "text/plain": [
              "(80,)"
            ]
          },
          "metadata": {},
          "execution_count": 18
        }
      ]
    },
    {
      "cell_type": "markdown",
      "source": [
        "Predicting the Test set results"
      ],
      "metadata": {
        "id": "YKRtYHJ2arBH"
      }
    },
    {
      "cell_type": "code",
      "source": [
        "from sklearn.metrics import accuracy_score\n",
        "accuracy_score(y_test,y_pred)"
      ],
      "metadata": {
        "colab": {
          "base_uri": "https://localhost:8080/"
        },
        "id": "X-itlwhyaro7",
        "outputId": "9189054d-e40f-4ea7-c3df-5ab3ebb86eca"
      },
      "execution_count": null,
      "outputs": [
        {
          "output_type": "execute_result",
          "data": {
            "text/plain": [
              "0.3875"
            ]
          },
          "metadata": {},
          "execution_count": 19
        }
      ]
    },
    {
      "cell_type": "markdown",
      "source": [
        "Making the Confusion Matrix"
      ],
      "metadata": {
        "id": "zDtQBDviayrs"
      }
    },
    {
      "cell_type": "code",
      "source": [
        "from sklearn.metrics import confusion_matrix\n",
        "confusion_matrix(y_test,y_pred)"
      ],
      "metadata": {
        "colab": {
          "base_uri": "https://localhost:8080/"
        },
        "id": "mp9GlCO3azr-",
        "outputId": "e1fd699e-584d-48fd-fa27-641414a86a20"
      },
      "execution_count": null,
      "outputs": [
        {
          "output_type": "execute_result",
          "data": {
            "text/plain": [
              "array([[ 0, 49],\n",
              "       [ 0, 31]])"
            ]
          },
          "metadata": {},
          "execution_count": 20
        }
      ]
    },
    {
      "cell_type": "code",
      "source": [
        "accuracy = []\n",
        "\n",
        "for i in range(1,26):\n",
        "    knn = KNeighborsClassifier(n_neighbors=i)\n",
        "    knn.fit(X_train,y_train)\n",
        "    accuracy.append(accuracy_score(y_test,knn.predict(X_test)))"
      ],
      "metadata": {
        "id": "Kl-yCMyna5VI",
        "outputId": "935f521c-c5c5-4f06-c749-8b91c29d23d2",
        "colab": {
          "base_uri": "https://localhost:8080/"
        }
      },
      "execution_count": null,
      "outputs": [
        {
          "output_type": "stream",
          "name": "stderr",
          "text": [
            "/usr/local/lib/python3.7/dist-packages/sklearn/base.py:444: UserWarning: X has feature names, but KNeighborsClassifier was fitted without feature names\n",
            "  f\"X has feature names, but {self.__class__.__name__} was fitted without\"\n",
            "/usr/local/lib/python3.7/dist-packages/sklearn/base.py:444: UserWarning: X has feature names, but KNeighborsClassifier was fitted without feature names\n",
            "  f\"X has feature names, but {self.__class__.__name__} was fitted without\"\n",
            "/usr/local/lib/python3.7/dist-packages/sklearn/base.py:444: UserWarning: X has feature names, but KNeighborsClassifier was fitted without feature names\n",
            "  f\"X has feature names, but {self.__class__.__name__} was fitted without\"\n",
            "/usr/local/lib/python3.7/dist-packages/sklearn/base.py:444: UserWarning: X has feature names, but KNeighborsClassifier was fitted without feature names\n",
            "  f\"X has feature names, but {self.__class__.__name__} was fitted without\"\n",
            "/usr/local/lib/python3.7/dist-packages/sklearn/base.py:444: UserWarning: X has feature names, but KNeighborsClassifier was fitted without feature names\n",
            "  f\"X has feature names, but {self.__class__.__name__} was fitted without\"\n",
            "/usr/local/lib/python3.7/dist-packages/sklearn/base.py:444: UserWarning: X has feature names, but KNeighborsClassifier was fitted without feature names\n",
            "  f\"X has feature names, but {self.__class__.__name__} was fitted without\"\n",
            "/usr/local/lib/python3.7/dist-packages/sklearn/base.py:444: UserWarning: X has feature names, but KNeighborsClassifier was fitted without feature names\n",
            "  f\"X has feature names, but {self.__class__.__name__} was fitted without\"\n",
            "/usr/local/lib/python3.7/dist-packages/sklearn/base.py:444: UserWarning: X has feature names, but KNeighborsClassifier was fitted without feature names\n",
            "  f\"X has feature names, but {self.__class__.__name__} was fitted without\"\n",
            "/usr/local/lib/python3.7/dist-packages/sklearn/base.py:444: UserWarning: X has feature names, but KNeighborsClassifier was fitted without feature names\n",
            "  f\"X has feature names, but {self.__class__.__name__} was fitted without\"\n",
            "/usr/local/lib/python3.7/dist-packages/sklearn/base.py:444: UserWarning: X has feature names, but KNeighborsClassifier was fitted without feature names\n",
            "  f\"X has feature names, but {self.__class__.__name__} was fitted without\"\n",
            "/usr/local/lib/python3.7/dist-packages/sklearn/base.py:444: UserWarning: X has feature names, but KNeighborsClassifier was fitted without feature names\n",
            "  f\"X has feature names, but {self.__class__.__name__} was fitted without\"\n",
            "/usr/local/lib/python3.7/dist-packages/sklearn/base.py:444: UserWarning: X has feature names, but KNeighborsClassifier was fitted without feature names\n",
            "  f\"X has feature names, but {self.__class__.__name__} was fitted without\"\n",
            "/usr/local/lib/python3.7/dist-packages/sklearn/base.py:444: UserWarning: X has feature names, but KNeighborsClassifier was fitted without feature names\n",
            "  f\"X has feature names, but {self.__class__.__name__} was fitted without\"\n",
            "/usr/local/lib/python3.7/dist-packages/sklearn/base.py:444: UserWarning: X has feature names, but KNeighborsClassifier was fitted without feature names\n",
            "  f\"X has feature names, but {self.__class__.__name__} was fitted without\"\n",
            "/usr/local/lib/python3.7/dist-packages/sklearn/base.py:444: UserWarning: X has feature names, but KNeighborsClassifier was fitted without feature names\n",
            "  f\"X has feature names, but {self.__class__.__name__} was fitted without\"\n",
            "/usr/local/lib/python3.7/dist-packages/sklearn/base.py:444: UserWarning: X has feature names, but KNeighborsClassifier was fitted without feature names\n",
            "  f\"X has feature names, but {self.__class__.__name__} was fitted without\"\n",
            "/usr/local/lib/python3.7/dist-packages/sklearn/base.py:444: UserWarning: X has feature names, but KNeighborsClassifier was fitted without feature names\n",
            "  f\"X has feature names, but {self.__class__.__name__} was fitted without\"\n",
            "/usr/local/lib/python3.7/dist-packages/sklearn/base.py:444: UserWarning: X has feature names, but KNeighborsClassifier was fitted without feature names\n",
            "  f\"X has feature names, but {self.__class__.__name__} was fitted without\"\n",
            "/usr/local/lib/python3.7/dist-packages/sklearn/base.py:444: UserWarning: X has feature names, but KNeighborsClassifier was fitted without feature names\n",
            "  f\"X has feature names, but {self.__class__.__name__} was fitted without\"\n",
            "/usr/local/lib/python3.7/dist-packages/sklearn/base.py:444: UserWarning: X has feature names, but KNeighborsClassifier was fitted without feature names\n",
            "  f\"X has feature names, but {self.__class__.__name__} was fitted without\"\n",
            "/usr/local/lib/python3.7/dist-packages/sklearn/base.py:444: UserWarning: X has feature names, but KNeighborsClassifier was fitted without feature names\n",
            "  f\"X has feature names, but {self.__class__.__name__} was fitted without\"\n",
            "/usr/local/lib/python3.7/dist-packages/sklearn/base.py:444: UserWarning: X has feature names, but KNeighborsClassifier was fitted without feature names\n",
            "  f\"X has feature names, but {self.__class__.__name__} was fitted without\"\n",
            "/usr/local/lib/python3.7/dist-packages/sklearn/base.py:444: UserWarning: X has feature names, but KNeighborsClassifier was fitted without feature names\n",
            "  f\"X has feature names, but {self.__class__.__name__} was fitted without\"\n",
            "/usr/local/lib/python3.7/dist-packages/sklearn/base.py:444: UserWarning: X has feature names, but KNeighborsClassifier was fitted without feature names\n",
            "  f\"X has feature names, but {self.__class__.__name__} was fitted without\"\n",
            "/usr/local/lib/python3.7/dist-packages/sklearn/base.py:444: UserWarning: X has feature names, but KNeighborsClassifier was fitted without feature names\n",
            "  f\"X has feature names, but {self.__class__.__name__} was fitted without\"\n"
          ]
        }
      ]
    }
  ]
}